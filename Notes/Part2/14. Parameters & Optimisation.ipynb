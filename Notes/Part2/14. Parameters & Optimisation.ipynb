{
 "cells": [
  {
   "cell_type": "code",
   "execution_count": 51,
   "id": "a17e5991",
   "metadata": {},
   "outputs": [
    {
     "data": {
      "text/plain": [
       "Module(\n",
       "  (foo): Linear(in_features=3, out_features=4, bias=True)\n",
       ")"
      ]
     },
     "execution_count": 51,
     "metadata": {},
     "output_type": "execute_result"
    }
   ],
   "source": [
    "from torch import nn\n",
    "\n",
    "m1 = nn.Module()\n",
    "m1.foo = nn.Linear(3, 4)\n",
    "m1"
   ]
  },
  {
   "cell_type": "code",
   "execution_count": 52,
   "id": "6c7c13bb",
   "metadata": {},
   "outputs": [
    {
     "data": {
      "text/plain": [
       "<generator object Module.named_children at 0x000001F1B9BBF3D0>"
      ]
     },
     "execution_count": 52,
     "metadata": {},
     "output_type": "execute_result"
    }
   ],
   "source": [
    "m1.named_children()"
   ]
  },
  {
   "cell_type": "code",
   "execution_count": 53,
   "id": "356d64d0",
   "metadata": {},
   "outputs": [
    {
     "data": {
      "text/plain": [
       "[('foo', Linear(in_features=3, out_features=4, bias=True))]"
      ]
     },
     "execution_count": 53,
     "metadata": {},
     "output_type": "execute_result"
    }
   ],
   "source": [
    "\n",
    "list(m1.named_children())"
   ]
  },
  {
   "cell_type": "code",
   "execution_count": 54,
   "id": "2753fff2",
   "metadata": {},
   "outputs": [
    {
     "data": {
      "text/plain": [
       "[Parameter containing:\n",
       " tensor([[ 0.3389, -0.5633, -0.0506],\n",
       "         [-0.3285,  0.3248,  0.2828],\n",
       "         [ 0.3633,  0.0869, -0.3566],\n",
       "         [-0.2879,  0.5615,  0.3613]], requires_grad=True),\n",
       " Parameter containing:\n",
       " tensor([0.3018, 0.1970, 0.1302, 0.1104], requires_grad=True)]"
      ]
     },
     "execution_count": 54,
     "metadata": {},
     "output_type": "execute_result"
    }
   ],
   "source": [
    "list(m1.parameters())"
   ]
  },
  {
   "cell_type": "code",
   "execution_count": 55,
   "id": "a6499431",
   "metadata": {},
   "outputs": [],
   "source": [
    "class MLP(nn.Module):\n",
    "    def __init__(self, n_in, nh, n_out):\n",
    "        super().__init__()\n",
    "        self.l1 = nn.Linear(n_in,nh)\n",
    "        self.l2 = nn.Linear(nh,n_out)\n",
    "        self.relu = nn.ReLU()\n",
    "        \n",
    "    def forward(self, x): \n",
    "        return self.l2(self.relu(self.l1(x)))"
   ]
  },
  {
   "cell_type": "code",
   "execution_count": 56,
   "id": "039bea98",
   "metadata": {},
   "outputs": [
    {
     "data": {
      "text/plain": [
       "Linear(in_features=784, out_features=50, bias=True)"
      ]
     },
     "execution_count": 56,
     "metadata": {},
     "output_type": "execute_result"
    }
   ],
   "source": [
    "model = MLP(784, 50, 10)\n",
    "model.l1"
   ]
  },
  {
   "cell_type": "code",
   "execution_count": 57,
   "id": "cc2dc3aa",
   "metadata": {},
   "outputs": [
    {
     "data": {
      "text/plain": [
       "<generator object Module.parameters at 0x000001F1B03E8E40>"
      ]
     },
     "execution_count": 57,
     "metadata": {},
     "output_type": "execute_result"
    }
   ],
   "source": [
    "model.parameters()"
   ]
  },
  {
   "cell_type": "code",
   "execution_count": 58,
   "id": "d3b0f0c7",
   "metadata": {},
   "outputs": [
    {
     "data": {
      "text/plain": [
       "[Parameter containing:\n",
       " tensor([[-0.0152,  0.0088,  0.0257,  ..., -0.0119, -0.0139, -0.0276],\n",
       "         [-0.0299,  0.0250, -0.0192,  ..., -0.0056,  0.0207, -0.0260],\n",
       "         [ 0.0064,  0.0117,  0.0164,  ...,  0.0305, -0.0239, -0.0340],\n",
       "         ...,\n",
       "         [ 0.0149, -0.0287, -0.0204,  ...,  0.0040, -0.0292,  0.0150],\n",
       "         [ 0.0161,  0.0102,  0.0259,  ...,  0.0127, -0.0096, -0.0347],\n",
       "         [-0.0221,  0.0176,  0.0115,  ..., -0.0347,  0.0104,  0.0325]],\n",
       "        requires_grad=True),\n",
       " Parameter containing:\n",
       " tensor([ 0.0081,  0.0046, -0.0340, -0.0325, -0.0145, -0.0154, -0.0011,  0.0184,\n",
       "          0.0164,  0.0301,  0.0237, -0.0128, -0.0261, -0.0073, -0.0167,  0.0186,\n",
       "          0.0325,  0.0026, -0.0186,  0.0136, -0.0194, -0.0275, -0.0006, -0.0283,\n",
       "         -0.0261,  0.0271, -0.0129, -0.0116, -0.0056,  0.0128, -0.0128,  0.0151,\n",
       "          0.0098,  0.0308,  0.0239, -0.0303, -0.0159,  0.0323,  0.0206,  0.0293,\n",
       "          0.0199,  0.0052, -0.0122, -0.0317, -0.0200,  0.0240, -0.0109, -0.0143,\n",
       "         -0.0076,  0.0132], requires_grad=True),\n",
       " Parameter containing:\n",
       " tensor([[ 0.0868,  0.1224, -0.1066,  0.0884,  0.0939,  0.0239,  0.0085,  0.0582,\n",
       "          -0.0916, -0.1034,  0.1163, -0.0973, -0.1345,  0.0072, -0.0728, -0.0398,\n",
       "           0.0649, -0.1099,  0.1408, -0.1322, -0.0231, -0.0440,  0.0191,  0.0303,\n",
       "           0.0509,  0.0143,  0.1275,  0.0698, -0.0337,  0.1183, -0.1138, -0.0356,\n",
       "           0.0304,  0.0295, -0.1278, -0.0110,  0.1314, -0.1240,  0.0412,  0.0296,\n",
       "           0.0599, -0.0211, -0.0218, -0.0426, -0.0110,  0.0723,  0.0982,  0.0293,\n",
       "          -0.1239, -0.1132],\n",
       "         [ 0.1193, -0.0563,  0.0641,  0.0752, -0.0286, -0.0533, -0.0161,  0.0012,\n",
       "          -0.1328, -0.0267,  0.0115,  0.0557,  0.0602,  0.0261, -0.1222, -0.1161,\n",
       "          -0.0944, -0.0625, -0.0469,  0.0379, -0.0133,  0.0422, -0.0462, -0.0465,\n",
       "           0.1383,  0.0682,  0.0773, -0.0068, -0.0133, -0.0242,  0.1219,  0.0226,\n",
       "           0.0145, -0.1208, -0.0157,  0.0600, -0.1081, -0.0566,  0.1036, -0.0038,\n",
       "          -0.0286,  0.1064,  0.1104,  0.1273,  0.0434, -0.0559, -0.1039, -0.0792,\n",
       "          -0.1409,  0.1180],\n",
       "         [ 0.0161, -0.0456,  0.0714, -0.0039, -0.1148, -0.0916, -0.0597,  0.0169,\n",
       "           0.0392,  0.0967, -0.0737, -0.0467, -0.1150, -0.1320, -0.1237, -0.0483,\n",
       "           0.0870, -0.0144, -0.0613, -0.0223,  0.0107, -0.0590,  0.0639,  0.0572,\n",
       "           0.0995, -0.0934,  0.0228,  0.0855,  0.0328,  0.0134, -0.1369,  0.0461,\n",
       "          -0.0347, -0.0421,  0.0075, -0.0845, -0.0062,  0.1049, -0.0550,  0.0636,\n",
       "           0.1113, -0.0544, -0.0711, -0.0038, -0.1394, -0.0605,  0.0248,  0.0907,\n",
       "          -0.0065,  0.1285],\n",
       "         [ 0.0662,  0.1065,  0.1399,  0.1293, -0.0801, -0.0176, -0.0892,  0.1264,\n",
       "          -0.1137, -0.0964, -0.0819,  0.1236,  0.0299,  0.0047,  0.1295,  0.1112,\n",
       "          -0.0300,  0.0066,  0.0131,  0.0804,  0.0253, -0.0575, -0.1017, -0.0382,\n",
       "           0.0181,  0.0301, -0.1182,  0.0786, -0.1082,  0.0033,  0.0147, -0.0956,\n",
       "           0.0283, -0.0553,  0.0617,  0.0578,  0.0011,  0.0239, -0.0640, -0.0094,\n",
       "          -0.0157, -0.0395,  0.0280,  0.0764,  0.0375, -0.1178,  0.1192,  0.0434,\n",
       "          -0.0165, -0.0084],\n",
       "         [ 0.0192, -0.0803,  0.1197, -0.1174,  0.1399,  0.0238,  0.0908, -0.0653,\n",
       "           0.1195,  0.0636,  0.0828,  0.0853,  0.1326, -0.1195, -0.0301,  0.1315,\n",
       "           0.0843,  0.0965,  0.0395,  0.1203,  0.1398, -0.0285,  0.0804,  0.1307,\n",
       "          -0.0097,  0.0627, -0.0490,  0.1312, -0.0299, -0.0018, -0.0283, -0.1299,\n",
       "           0.1266, -0.0759, -0.0463,  0.0615, -0.0759, -0.0286, -0.0953,  0.1249,\n",
       "          -0.1109,  0.0519, -0.0898, -0.0803,  0.1157,  0.0937,  0.1403, -0.1315,\n",
       "          -0.0185,  0.0871],\n",
       "         [-0.1240, -0.0683,  0.0044,  0.0164,  0.0305,  0.0556, -0.0814,  0.0584,\n",
       "          -0.0968, -0.0380,  0.0662, -0.0635,  0.0870,  0.0851, -0.0054, -0.1361,\n",
       "          -0.1327, -0.1183,  0.1341,  0.0449,  0.0119, -0.0335, -0.1364, -0.0779,\n",
       "          -0.0315, -0.0417, -0.1372, -0.0673,  0.1016, -0.0936, -0.0923, -0.1386,\n",
       "           0.0505, -0.0694, -0.1302,  0.0346, -0.0503,  0.0095, -0.1197, -0.0834,\n",
       "           0.0495, -0.0014,  0.0620,  0.0395,  0.0019, -0.0081, -0.0068,  0.1392,\n",
       "          -0.0902,  0.0630],\n",
       "         [-0.0878, -0.0800,  0.0517, -0.0519, -0.0747,  0.1144, -0.0508,  0.0636,\n",
       "          -0.0704,  0.0229, -0.0404,  0.1359, -0.0131,  0.0533,  0.0826, -0.0177,\n",
       "           0.0165, -0.0835,  0.0356,  0.1346, -0.0869,  0.1271,  0.0134, -0.0461,\n",
       "          -0.1241,  0.0339, -0.1302,  0.0996,  0.0135, -0.0231, -0.0936,  0.0143,\n",
       "          -0.1316, -0.0317, -0.0799,  0.0682,  0.1106, -0.0368,  0.0100,  0.1119,\n",
       "          -0.0561,  0.1268, -0.1138, -0.0856,  0.0977, -0.0202, -0.0966,  0.0285,\n",
       "           0.1154,  0.0075],\n",
       "         [ 0.0497, -0.0051, -0.1288,  0.0251, -0.1171,  0.0212,  0.0565, -0.0594,\n",
       "           0.0051, -0.0070,  0.0440, -0.0672,  0.1038, -0.1238, -0.0027, -0.0162,\n",
       "           0.0980, -0.0890,  0.0184,  0.0843,  0.0655,  0.0836,  0.0469, -0.0861,\n",
       "          -0.0711, -0.0121,  0.0385,  0.1345,  0.0772,  0.0060, -0.0134, -0.0170,\n",
       "          -0.0118, -0.0814,  0.0426, -0.1246, -0.0510,  0.0983,  0.1194, -0.0913,\n",
       "           0.0662,  0.1023,  0.0979,  0.0773, -0.1348, -0.1236, -0.0902, -0.1217,\n",
       "           0.0256,  0.1215],\n",
       "         [-0.0041,  0.0122, -0.1385,  0.0792, -0.0710,  0.0339,  0.0976, -0.1280,\n",
       "          -0.0888, -0.1144,  0.0528, -0.1331, -0.0003,  0.0427, -0.0153, -0.0025,\n",
       "           0.0991, -0.0319,  0.0824, -0.0026,  0.0353,  0.1222,  0.0732,  0.0877,\n",
       "          -0.1307, -0.1389,  0.1271,  0.0142,  0.0091, -0.0452,  0.0702, -0.0323,\n",
       "           0.0117, -0.0116,  0.1348, -0.0042,  0.0398,  0.0690,  0.1249,  0.0483,\n",
       "          -0.0832, -0.0933,  0.1077, -0.1214,  0.1183, -0.0778, -0.0410, -0.1321,\n",
       "           0.0743,  0.0252],\n",
       "         [ 0.0505, -0.0013,  0.0672,  0.0619, -0.0487,  0.1004, -0.0045,  0.0288,\n",
       "           0.1060, -0.0686, -0.0414,  0.0550,  0.0535, -0.0484,  0.1296,  0.0372,\n",
       "          -0.1075,  0.0141,  0.0971,  0.0387,  0.1291, -0.1001, -0.1016,  0.0788,\n",
       "           0.0016,  0.0226, -0.0850, -0.0304,  0.0885, -0.1081,  0.0140, -0.0698,\n",
       "          -0.1333, -0.0638,  0.0216,  0.1006,  0.0778, -0.0556, -0.0968, -0.0822,\n",
       "           0.1054,  0.1053, -0.0722,  0.0419,  0.0171,  0.1075, -0.0495,  0.0396,\n",
       "           0.0803,  0.0601]], requires_grad=True),\n",
       " Parameter containing:\n",
       " tensor([-0.1314, -0.0546,  0.0257, -0.1235, -0.0590,  0.1061,  0.1293,  0.0326,\n",
       "         -0.1068,  0.0698], requires_grad=True)]"
      ]
     },
     "execution_count": 58,
     "metadata": {},
     "output_type": "execute_result"
    }
   ],
   "source": [
    "list(model.parameters())"
   ]
  },
  {
   "cell_type": "code",
   "execution_count": 59,
   "id": "43c45693",
   "metadata": {},
   "outputs": [
    {
     "data": {
      "text/plain": [
       "MLP(\n",
       "  (l1): Linear(in_features=784, out_features=50, bias=True)\n",
       "  (l2): Linear(in_features=50, out_features=10, bias=True)\n",
       "  (relu): ReLU()\n",
       ")"
      ]
     },
     "execution_count": 59,
     "metadata": {},
     "output_type": "execute_result"
    }
   ],
   "source": [
    "model"
   ]
  },
  {
   "cell_type": "code",
   "execution_count": 60,
   "id": "a8219777",
   "metadata": {},
   "outputs": [],
   "source": [
    "# __setattr__ - whenever you set an attribut it will call this value\n",
    "# passsing in the key and value\n",
    "# if it does not start an underscore it will put this value into the modules dictionary with this key\n",
    "# we can make sure \n",
    "# if not k.startswith(\"_\")\n",
    "\n",
    "# allows us to loop through all of the modules that we have kept stored\n",
    "def parameters(self):\n",
    "    for l in self._modules.values(): \n",
    "        yield from l.parameters()"
   ]
  },
  {
   "cell_type": "code",
   "execution_count": 61,
   "id": "c847bcca",
   "metadata": {},
   "outputs": [],
   "source": [
    "class MyModule:\n",
    "    def __init__(self, n_in, nh, n_out):\n",
    "        self._modules = {}\n",
    "        self.l1 = nn.Linear(n_in,nh)\n",
    "        self.l2 = nn.Linear(nh,n_out)\n",
    "\n",
    "    def __setattr__(self,k,v):\n",
    "        if not k.startswith(\"_\"): self._modules[k] = v\n",
    "        super().__setattr__(k,v)\n",
    "\n",
    "    def __repr__(self): return f'{self._modules}'\n",
    "    \n",
    "    def parameters(self):\n",
    "        for l in self._modules.values(): yield from l.parameters()"
   ]
  },
  {
   "cell_type": "code",
   "execution_count": 62,
   "id": "ae188f5c",
   "metadata": {},
   "outputs": [],
   "source": [
    "class Model(nn.Module):\n",
    "    def __init__(self, layers):\n",
    "        super().__init__()\n",
    "        self.layers = layers\n",
    "        for i,l in enumerate(self.layers): self.add_module(f'layer_{i}', l)\n",
    "\n",
    "    def forward(self, x): \n",
    "        # reduce applies the function to the initial value initially but then\n",
    "        # uses the new output as the new input value and continues applying the list of layers\n",
    "        return reduce(lambda val, layer: layer(val), self.layers, x)\n",
    "     \n",
    "# Now with our updates module version we can now enumerate all layers and register every single module to make it very easy"
   ]
  },
  {
   "cell_type": "code",
   "execution_count": 63,
   "id": "e7906a46",
   "metadata": {},
   "outputs": [],
   "source": [
    "# Instead of using a model we can easily use the sequential model taht takes in sequential layers that take advantage of nn.ModuleList\n",
    "\n",
    "class SequentialModel(nn.Module):\n",
    "    def __init__(self, layers):\n",
    "        super().__init__()\n",
    "        self.layers = nn.ModuleList(layers)\n",
    "        \n",
    "    def forward(self, x):\n",
    "        for l in self.layers: x = l(x)\n",
    "        return x"
   ]
  },
  {
   "cell_type": "code",
   "execution_count": 64,
   "id": "f6ef406b",
   "metadata": {},
   "outputs": [],
   "source": [
    "# optim - optimiser\n",
    "\n",
    "class Optimizer():\n",
    "    def __init__(self, params, lr=0.5): \n",
    "        self.params, self.lr = list(params), lr\n",
    "\n",
    "    def step(self):\n",
    "        with torch.no_grad():\n",
    "            for p in self.params: \n",
    "                p -= p.grad * self.lr\n",
    "\n",
    "    def zero_grad(self):\n",
    "        for p in self.params: \n",
    "            p.grad.data.zero_()\n",
    "     "
   ]
  },
  {
   "cell_type": "code",
   "execution_count": 65,
   "id": "5d486d8e",
   "metadata": {},
   "outputs": [
    {
     "ename": "NameError",
     "evalue": "name 'epochs' is not defined",
     "output_type": "error",
     "traceback": [
      "\u001b[1;31m---------------------------------------------------------------------------\u001b[0m",
      "\u001b[1;31mNameError\u001b[0m                                 Traceback (most recent call last)",
      "Cell \u001b[1;32mIn[65], line 7\u001b[0m\n\u001b[0;32m      4\u001b[0m model \u001b[38;5;241m=\u001b[39m nn\u001b[38;5;241m.\u001b[39mSequential(nn\u001b[38;5;241m.\u001b[39mLinear(\u001b[38;5;241m784\u001b[39m, \u001b[38;5;241m50\u001b[39m), nn\u001b[38;5;241m.\u001b[39mReLU(), nn\u001b[38;5;241m.\u001b[39mLinear(\u001b[38;5;241m50\u001b[39m, \u001b[38;5;241m10\u001b[39m))\n\u001b[0;32m      5\u001b[0m optimiser \u001b[38;5;241m=\u001b[39m optim\u001b[38;5;241m.\u001b[39mSGD(model\u001b[38;5;241m.\u001b[39mparameters(), lr \u001b[38;5;241m=\u001b[39m \u001b[38;5;241m0.1\u001b[39m)\n\u001b[1;32m----> 7\u001b[0m \u001b[38;5;28;01mfor\u001b[39;00m epoch \u001b[38;5;129;01min\u001b[39;00m \u001b[38;5;28mrange\u001b[39m(epochs):\n\u001b[0;32m      8\u001b[0m     \u001b[38;5;28;01mfor\u001b[39;00m i \u001b[38;5;129;01min\u001b[39;00m \u001b[38;5;28mrange\u001b[39m(\u001b[38;5;241m0\u001b[39m, n, bs):\n\u001b[0;32m      9\u001b[0m         \u001b[38;5;66;03m# take a slice from i -> (i + bs | n) since we can be at the end\u001b[39;00m\n\u001b[0;32m     10\u001b[0m         s \u001b[38;5;241m=\u001b[39m \u001b[38;5;28mslice\u001b[39m(i, \u001b[38;5;28mmin\u001b[39m(n, i \u001b[38;5;241m+\u001b[39m bs))\n",
      "\u001b[1;31mNameError\u001b[0m: name 'epochs' is not defined"
     ]
    }
   ],
   "source": [
    "from torch import optim\n",
    "from torch import nn\n",
    "\n",
    "model = nn.Sequential(nn.Linear(784, 50), nn.ReLU(), nn.Linear(50, 10))\n",
    "optimiser = optim.SGD(model.parameters(), lr = 0.1)\n",
    "\n",
    "for epoch in range(epochs):\n",
    "    for i in range(0, n, bs):\n",
    "        # take a slice from i -> (i + bs | n) since we can be at the end\n",
    "        s = slice(i, min(n, i + bs))\n",
    "        xb, yb = x_train[s], y_train[s]\n",
    "        preds = model(xb)\n",
    "        loss = loss_func(preds, yb)\n",
    "        loss.backward()\n",
    "        opt.step()\n",
    "        opt.zero_grad()\n",
    "    report(loss, preds, yb)"
   ]
  },
  {
   "cell_type": "code",
   "execution_count": 71,
   "id": "3c682d4f",
   "metadata": {},
   "outputs": [
    {
     "ename": "NameError",
     "evalue": "name 'i' is not defined",
     "output_type": "error",
     "traceback": [
      "\u001b[1;31m---------------------------------------------------------------------------\u001b[0m",
      "\u001b[1;31mNameError\u001b[0m                                 Traceback (most recent call last)",
      "Cell \u001b[1;32mIn[71], line 2\u001b[0m\n\u001b[0;32m      1\u001b[0m \u001b[38;5;66;03m# A dataset allows us to convert these two lines of code from\u001b[39;00m\n\u001b[1;32m----> 2\u001b[0m s \u001b[38;5;241m=\u001b[39m \u001b[38;5;28mslice\u001b[39m(i, \u001b[38;5;28mmin\u001b[39m(n, i \u001b[38;5;241m+\u001b[39m bs))\n\u001b[0;32m      3\u001b[0m xb, yb \u001b[38;5;241m=\u001b[39m x_train[s], y_train[s]\n\u001b[0;32m      5\u001b[0m \u001b[38;5;66;03m# into \u001b[39;00m\n",
      "\u001b[1;31mNameError\u001b[0m: name 'i' is not defined"
     ]
    }
   ],
   "source": [
    "# A dataset allows us to convert these two lines of code from\n",
    "s = slice(i, min(n, i + bs))\n",
    "xb, yb = x_train[s], y_train[s]\n",
    "\n",
    "# into \n",
    "\n",
    "xb, yb = train_ds[i : min(n, i+bs)]"
   ]
  },
  {
   "cell_type": "code",
   "execution_count": 72,
   "id": "c2d8889e",
   "metadata": {},
   "outputs": [
    {
     "ename": "SyntaxError",
     "evalue": "invalid syntax (937330537.py, line 8)",
     "output_type": "error",
     "traceback": [
      "\u001b[1;36m  Cell \u001b[1;32mIn[72], line 8\u001b[1;36m\u001b[0m\n\u001b[1;33m    for xb, yb = in train_dl:\u001b[0m\n\u001b[1;37m               ^\u001b[0m\n\u001b[1;31mSyntaxError\u001b[0m\u001b[1;31m:\u001b[0m invalid syntax\n"
     ]
    }
   ],
   "source": [
    "# A dataloader will allow us to store the dataset and then loop through the data and provide our slices of data via minibatches\n",
    "\n",
    "for i in range(0, n, bs):\n",
    "    xb, yb = train_ds[i : min(n, i + bs)]\n",
    "\n",
    "# into\n",
    "\n",
    "for xb, yb = in train_dl:\n",
    "\n",
    "    \n",
    "# Dataloader\n",
    "\n",
    "\n",
    "class DataLoader():\n",
    "    def __init__(self, ds, bs): \n",
    "        self.ds, self.bs = ds, bs\n",
    "        \n",
    "    def __iter__(self):\n",
    "        # Whenever we iterate over our dataloader we can have it handle the slicing of data for us\n",
    "        for i in range(0, len(self.ds), self.bs): \n",
    "            yield self.ds[i:i+self.bs]\n",
    "            \n",
    "train_ds, valid_ds = Dataset(x_train, y_train), Dataset(x_valid, y_valid)\n",
    "train_dl = DataLoader(train_ds, bs)\n",
    "valid_dl = DataLoader(valid_ds, bs)"
   ]
  },
  {
   "cell_type": "code",
   "execution_count": 73,
   "id": "57dc406b",
   "metadata": {},
   "outputs": [],
   "source": [
    "# Random Sampling - training set should be randomised (not validation set)\n",
    "# Create a sampler\n",
    "\n",
    "class Sampler():\n",
    "    def __init__(self, ds, shuffle = False):\n",
    "        self.n, self.shuffle = len(ds), shuffle\n",
    "        \n",
    "    def __iter__(self):\n",
    "        res = list(range(self.n))\n",
    "        if self.shuffle:\n",
    "            random.shuffle(res)\n",
    "        return iter(res)"
   ]
  },
  {
   "cell_type": "code",
   "execution_count": 74,
   "id": "e1c8ee46",
   "metadata": {},
   "outputs": [
    {
     "data": {
      "text/plain": [
       "[0, 1, 2, 3, 4]"
      ]
     },
     "execution_count": 74,
     "metadata": {},
     "output_type": "execute_result"
    }
   ],
   "source": [
    "res = list(range(5))\n",
    "res"
   ]
  },
  {
   "cell_type": "code",
   "execution_count": 75,
   "id": "e730e277",
   "metadata": {},
   "outputs": [
    {
     "data": {
      "text/plain": [
       "<list_iterator at 0x1f1b9bc65c0>"
      ]
     },
     "execution_count": 75,
     "metadata": {},
     "output_type": "execute_result"
    }
   ],
   "source": [
    "iter(res)"
   ]
  },
  {
   "cell_type": "code",
   "execution_count": 76,
   "id": "54f86dc6",
   "metadata": {},
   "outputs": [
    {
     "ename": "NameError",
     "evalue": "name 'random' is not defined",
     "output_type": "error",
     "traceback": [
      "\u001b[1;31m---------------------------------------------------------------------------\u001b[0m",
      "\u001b[1;31mNameError\u001b[0m                                 Traceback (most recent call last)",
      "Cell \u001b[1;32mIn[76], line 1\u001b[0m\n\u001b[1;32m----> 1\u001b[0m \u001b[38;5;28miter\u001b[39m(random\u001b[38;5;241m.\u001b[39mshuffle(res))\n",
      "\u001b[1;31mNameError\u001b[0m: name 'random' is not defined"
     ]
    }
   ],
   "source": [
    "iter(random.shuffle(res))"
   ]
  },
  {
   "cell_type": "code",
   "execution_count": 77,
   "id": "5a30ae0c",
   "metadata": {},
   "outputs": [],
   "source": [
    "# Batch sampler will provide the batches\n",
    "# so that we can get a batched randomised set of values\n",
    "class BatchSampler():\n",
    "    def __init__(self, sampler, bs, drop_last=False): \n",
    "        fc.store_attr()\n",
    "    def __iter__(self): \n",
    "        yield from fc.chunked(iter(self.sampler), self.bs, drop_last=self.drop_last)"
   ]
  },
  {
   "cell_type": "code",
   "execution_count": 78,
   "id": "5e253719",
   "metadata": {},
   "outputs": [
    {
     "ename": "NameError",
     "evalue": "name 'RandomSampler' is not defined",
     "output_type": "error",
     "traceback": [
      "\u001b[1;31m---------------------------------------------------------------------------\u001b[0m",
      "\u001b[1;31mNameError\u001b[0m                                 Traceback (most recent call last)",
      "Cell \u001b[1;32mIn[78], line 9\u001b[0m\n\u001b[0;32m      4\u001b[0m \u001b[38;5;28;01mfrom\u001b[39;00m \u001b[38;5;21;01mfastcore\u001b[39;00m\u001b[38;5;21;01m.\u001b[39;00m\u001b[38;5;21;01mbasics\u001b[39;00m \u001b[38;5;28;01mimport\u001b[39;00m store_attr\n\u001b[0;32m      6\u001b[0m \u001b[38;5;66;03m# they split up multiple workers and make them work across multiple batches\u001b[39;00m\n\u001b[0;32m      7\u001b[0m \n\u001b[0;32m      8\u001b[0m \u001b[38;5;66;03m# Sampler into dataloader with a dataset\u001b[39;00m\n\u001b[1;32m----> 9\u001b[0m train_samp \u001b[38;5;241m=\u001b[39m BatchSampler(RandomSampler(train_ds),     bs, drop_last\u001b[38;5;241m=\u001b[39m\u001b[38;5;28;01mFalse\u001b[39;00m)\n\u001b[0;32m     10\u001b[0m valid_samp \u001b[38;5;241m=\u001b[39m BatchSampler(SequentialSampler(valid_ds), bs, drop_last\u001b[38;5;241m=\u001b[39m\u001b[38;5;28;01mFalse\u001b[39;00m)\n\u001b[0;32m     12\u001b[0m train_dl \u001b[38;5;241m=\u001b[39m DataLoader(train_ds, batch_sampler\u001b[38;5;241m=\u001b[39mtrain_samp, collate_fn\u001b[38;5;241m=\u001b[39mcollate)\n",
      "\u001b[1;31mNameError\u001b[0m: name 'RandomSampler' is not defined"
     ]
    }
   ],
   "source": [
    "# Multiprocessing Dataloader - that runs far faster and also does some multiprocessing\n",
    "\n",
    "import torch.multiprocessing as mp\n",
    "from fastcore.basics import store_attr\n",
    "\n",
    "# they split up multiple workers and make them work across multiple batches\n",
    "\n",
    "# Sampler into dataloader with a dataset\n",
    "train_samp = BatchSampler(RandomSampler(train_ds),     bs, drop_last=False)\n",
    "valid_samp = BatchSampler(SequentialSampler(valid_ds), bs, drop_last=False)\n",
    "\n",
    "train_dl = DataLoader(train_ds, batch_sampler=train_samp, collate_fn=collate)\n",
    "valid_dl = DataLoader(valid_ds, batch_sampler=valid_samp, collate_fn=collate)"
   ]
  },
  {
   "cell_type": "code",
   "execution_count": 79,
   "id": "12070437",
   "metadata": {},
   "outputs": [],
   "source": [
    "# How to get hugging face datasets\n",
    "\n",
    "\n",
    "import logging,pickle,gzip,os,time,shutil,torch,matplotlib as mpl\n",
    "from pathlib import Path\n",
    "\n",
    "from torch import tensor,nn,optim\n",
    "from torch.utils.data import DataLoader\n",
    "import torch.nn.functional as F\n",
    "from datasets import load_dataset,load_dataset_builder\n",
    "\n",
    "import torchvision.transforms.functional as TF\n",
    "from fastcore.test import test_close"
   ]
  },
  {
   "cell_type": "code",
   "execution_count": 80,
   "id": "9683b1a6",
   "metadata": {},
   "outputs": [
    {
     "name": "stdout",
     "output_type": "stream",
     "text": [
      "Fashion-MNIST is a dataset of Zalando's article images—consisting of a training set of\n",
      "60,000 examples and a test set of 10,000 examples. Each example is a 28x28 grayscale image,\n",
      "associated with a label from 10 classes. We intend Fashion-MNIST to serve as a direct drop-in\n",
      "replacement for the original MNIST dataset for benchmarking machine learning algorithms.\n",
      "It shares the same image size and structure of training and testing splits.\n",
      "\n"
     ]
    }
   ],
   "source": [
    "name = \"fashion_mnist\"\n",
    "ds_builder = load_dataset_builder(name)\n",
    "print(ds_builder.info.description)"
   ]
  },
  {
   "cell_type": "code",
   "execution_count": 81,
   "id": "c79ebb35",
   "metadata": {},
   "outputs": [
    {
     "data": {
      "text/plain": [
       "{'image': Image(decode=True, id=None),\n",
       " 'label': ClassLabel(names=['T - shirt / top', 'Trouser', 'Pullover', 'Dress', 'Coat', 'Sandal', 'Shirt', 'Sneaker', 'Bag', 'Ankle boot'], id=None)}"
      ]
     },
     "execution_count": 81,
     "metadata": {},
     "output_type": "execute_result"
    }
   ],
   "source": [
    "ds_builder.info.features"
   ]
  },
  {
   "cell_type": "code",
   "execution_count": 82,
   "id": "608d3dee",
   "metadata": {},
   "outputs": [
    {
     "data": {
      "text/plain": [
       "{'train': SplitInfo(name='train', num_bytes=31296607, num_examples=60000, shard_lengths=None, dataset_name='fashion_mnist'),\n",
       " 'test': SplitInfo(name='test', num_bytes=5233810, num_examples=10000, shard_lengths=None, dataset_name='fashion_mnist')}"
      ]
     },
     "execution_count": 82,
     "metadata": {},
     "output_type": "execute_result"
    }
   ],
   "source": [
    "ds_builder.info.splits"
   ]
  },
  {
   "cell_type": "code",
   "execution_count": 83,
   "id": "0199c667",
   "metadata": {},
   "outputs": [
    {
     "name": "stderr",
     "output_type": "stream",
     "text": [
      "Found cached dataset fashion_mnist (C:/Users/diogo/.cache/huggingface/datasets/fashion_mnist/fashion_mnist/1.0.0/0a671f063342996f19779d38c0ab4abef9c64f757b35af8134b331c294d7ba48)\n"
     ]
    },
    {
     "data": {
      "application/vnd.jupyter.widget-view+json": {
       "model_id": "d75c79155b2e4d10b222a3bf328bd402",
       "version_major": 2,
       "version_minor": 0
      },
      "text/plain": [
       "  0%|          | 0/2 [00:00<?, ?it/s]"
      ]
     },
     "metadata": {},
     "output_type": "display_data"
    },
    {
     "data": {
      "text/plain": [
       "DatasetDict({\n",
       "    train: Dataset({\n",
       "        features: ['image', 'label'],\n",
       "        num_rows: 60000\n",
       "    })\n",
       "    test: Dataset({\n",
       "        features: ['image', 'label'],\n",
       "        num_rows: 10000\n",
       "    })\n",
       "})"
      ]
     },
     "execution_count": 83,
     "metadata": {},
     "output_type": "execute_result"
    }
   ],
   "source": [
    "dsd = load_dataset(name)\n",
    "dsd\n",
    "# dataset dictionary taht contains train and test items, thbey are split into training and testing "
   ]
  },
  {
   "cell_type": "code",
   "execution_count": 84,
   "id": "ebd3ee8a",
   "metadata": {},
   "outputs": [
    {
     "data": {
      "text/plain": [
       "{'image': <PIL.PngImagePlugin.PngImageFile image mode=L size=28x28>,\n",
       " 'label': 9}"
      ]
     },
     "execution_count": 84,
     "metadata": {},
     "output_type": "execute_result"
    }
   ],
   "source": [
    "train, test = dsd['train'],dsd['test']\n",
    "train[0]"
   ]
  },
  {
   "cell_type": "code",
   "execution_count": 85,
   "id": "5fed63c6",
   "metadata": {},
   "outputs": [],
   "source": [
    "x,y = ds_builder.info.features"
   ]
  },
  {
   "cell_type": "code",
   "execution_count": 86,
   "id": "6d9e763c",
   "metadata": {},
   "outputs": [
    {
     "data": {
      "text/plain": [
       "('image', 'label')"
      ]
     },
     "execution_count": 86,
     "metadata": {},
     "output_type": "execute_result"
    }
   ],
   "source": [
    "x,y"
   ]
  },
  {
   "cell_type": "code",
   "execution_count": 87,
   "id": "b065a82f",
   "metadata": {},
   "outputs": [
    {
     "data": {
      "image/png": "[encoded data removed]",
      "text/plain": [
       "<PIL.PngImagePlugin.PngImageFile image mode=L size=28x28>"
      ]
     },
     "execution_count": 87,
     "metadata": {},
     "output_type": "execute_result"
    }
   ],
   "source": [
    "x,y = 'image','label'\n",
    "img = train[0][x]\n",
    "img\n",
    "     "
   ]
  },
  {
   "cell_type": "code",
   "execution_count": 88,
   "id": "413e3826",
   "metadata": {},
   "outputs": [
    {
     "data": {
      "text/plain": [
       "ClassLabel(names=['T - shirt / top', 'Trouser', 'Pullover', 'Dress', 'Coat', 'Sandal', 'Shirt', 'Sneaker', 'Bag', 'Ankle boot'], id=None)"
      ]
     },
     "execution_count": 88,
     "metadata": {},
     "output_type": "execute_result"
    }
   ],
   "source": [
    "featy = train.features[y]\n",
    "featy"
   ]
  },
  {
   "cell_type": "code",
   "execution_count": 89,
   "id": "81828f35",
   "metadata": {},
   "outputs": [
    {
     "data": {
      "text/plain": [
       "['Ankle boot',\n",
       " 'T - shirt / top',\n",
       " 'T - shirt / top',\n",
       " 'Dress',\n",
       " 'T - shirt / top']"
      ]
     },
     "execution_count": 89,
     "metadata": {},
     "output_type": "execute_result"
    }
   ],
   "source": [
    "\n",
    "xb = train[:5][x]\n",
    "yb = train[:5][y]\n",
    "yb\n",
    "     \n",
    "featy.int2str(yb)"
   ]
  },
  {
   "cell_type": "code",
   "execution_count": 90,
   "id": "9b8e416a",
   "metadata": {},
   "outputs": [],
   "source": [
    "def collate_fn(b):\n",
    "    return {x:torch.stack([TF.to_tensor(o[x]) for o in b]),\n",
    "            y:tensor([o[y] for o in b])}\n",
    "\n",
    "# can return a dictionary of both parts as a collate function"
   ]
  },
  {
   "cell_type": "code",
   "execution_count": 91,
   "id": "ef5ea3c3",
   "metadata": {},
   "outputs": [
    {
     "data": {
      "text/plain": [
       "(torch.Size([16, 1, 28, 28]),\n",
       " tensor([9, 0, 0, 3, 0, 2, 7, 2, 5, 5, 0, 9, 5, 5, 7, 9]))"
      ]
     },
     "execution_count": 91,
     "metadata": {},
     "output_type": "execute_result"
    }
   ],
   "source": [
    "# Dataloader of train, collate_function and the nbathc size of 16\n",
    "dl = DataLoader(train, collate_fn=collate_fn, batch_size=16)\n",
    "b = next(iter(dl))\n",
    "b[x].shape,b[y]"
   ]
  },
  {
   "cell_type": "code",
   "execution_count": 92,
   "id": "fcba5c34",
   "metadata": {},
   "outputs": [
    {
     "data": {
      "text/plain": [
       "(torch.Size([16, 1, 28, 28]),\n",
       " tensor([9, 0, 0, 3, 0, 2, 7, 2, 5, 5, 0, 9, 5, 5, 7, 9]))"
      ]
     },
     "execution_count": 92,
     "metadata": {},
     "output_type": "execute_result"
    }
   ],
   "source": [
    "def transforms(b):\n",
    "    b[x] = [TF.to_tensor(o) for o in b[x]]\n",
    "    return b\n",
    "\n",
    "tds = train.with_transform(transforms)\n",
    "dl = DataLoader(tds, batch_size=16)\n",
    "b = next(iter(dl))\n",
    "b[x].shape,b[y]"
   ]
  },
  {
   "cell_type": "code",
   "execution_count": 93,
   "id": "31b6af7a",
   "metadata": {},
   "outputs": [],
   "source": [
    "# nbdev allows you to create modules from your noteboooks\n",
    "#|export - this will put this notebook into a python module\n",
    "#| default_exp datasets"
   ]
  },
  {
   "cell_type": "code",
   "execution_count": 95,
   "id": "cf337ef1",
   "metadata": {},
   "outputs": [
    {
     "name": "stdout",
     "output_type": "stream",
     "text": [
      "1 2 3\n"
     ]
    }
   ],
   "source": [
    "# Learners are very general purpose training loops and they will use callbacks\n",
    "# callbacks are called at the end of each epoch / end of each calculation\n",
    "# if cb: cb(i)\n",
    "\n",
    "# partial() allows you to create a function that has not run yet, is just partial\n",
    "\n",
    "# Callables can be made by classes too\n",
    "\n",
    "def g(a,b,c=0): print(a,b,c)\n",
    "args = [1,2]\n",
    "kwargs = {'c':3}\n",
    "g(*args, **kwargs)"
   ]
  },
  {
   "cell_type": "code",
   "execution_count": null,
   "id": "1ffe9925",
   "metadata": {},
   "outputs": [],
   "source": []
  }
 ],
 "metadata": {
  "kernelspec": {
   "display_name": "Python 3 (ipykernel)",
   "language": "python",
   "name": "python3"
  },
  "language_info": {
   "codemirror_mode": {
    "name": "ipython",
    "version": 3
   },
   "file_extension": ".py",
   "mimetype": "text/x-python",
   "name": "python",
   "nbconvert_exporter": "python",
   "pygments_lexer": "ipython3",
   "version": "3.11.5"
  }
 },
 "nbformat": 4,
 "nbformat_minor": 5
}
