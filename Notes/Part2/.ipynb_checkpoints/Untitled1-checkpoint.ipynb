{
 "cells": [
  {
   "cell_type": "code",
   "execution_count": 3,
   "id": "64be5586",
   "metadata": {},
   "outputs": [
    {
     "data": {
      "text/plain": [
       "tensor(3.)"
      ]
     },
     "execution_count": 3,
     "metadata": {},
     "output_type": "execute_result"
    }
   ],
   "source": [
    "# we want to make sure that at the start we have 0 mean and 1 stdevs\n",
    "# you can easily run out of gpu memory if you run cells on jupyter notebook\n",
    "# jupyter notebook stores the results of your previous few results and thus allows you to use\n",
    "# _ to get your previous one\n",
    "# if your previous output is a GPU tensor you must clean out those _\n",
    "\n",
    "# any cuda out of memory errors since the memory that was previously allocatd to your code will still be saved within the \n",
    "# traceback call of the error, it will keep the error problems saved\n",
    "\n",
    "# we must scale our weight matrices so that the standard deviation of our activations stay at 1\n",
    "# where 1 / root(number of inputs) - so we should scale our random numbers by 0.1\n",
    "# this is called the Xavier / Glorot initialisation\n",
    "# a variance is the average of how far away each point is from the mean \n",
    "# how far each point is on average from the mean\n",
    "import torch\n",
    "\n",
    "t = torch.tensor([1., 2., 3., 4., 5.])\n",
    "m = t.mean()\n",
    "m"
   ]
  },
  {
   "cell_type": "code",
   "execution_count": 4,
   "id": "17c09ad7",
   "metadata": {},
   "outputs": [
    {
     "data": {
      "text/plain": [
       "tensor(0.)"
      ]
     },
     "execution_count": 4,
     "metadata": {},
     "output_type": "execute_result"
    }
   ],
   "source": [
    "(t - m).mean()"
   ]
  },
  {
   "cell_type": "code",
   "execution_count": 5,
   "id": "b019284a",
   "metadata": {},
   "outputs": [
    {
     "data": {
      "text/plain": [
       "tensor(2.)"
      ]
     },
     "execution_count": 5,
     "metadata": {},
     "output_type": "execute_result"
    }
   ],
   "source": [
    "# however to calculate this we have to either use the square root or the absolute value\n",
    "# whenever we are calculating the variance otherwise the positives and negatives will cancel out\n",
    "# using these functions (squaring to handle the positive and negative values)\n",
    "# is far easier within derivations and other calculations so we use this one as teh variance\n",
    "# however it is particularly sensitive to outliers and thus we can take the sqrt of variance\n",
    "# to get the standard deviation\n",
    "# it will alwasy be on the same scale as the original data\n",
    "(t - m).pow(2).mean()"
   ]
  },
  {
   "cell_type": "code",
   "execution_count": 6,
   "id": "8abe3b9b",
   "metadata": {},
   "outputs": [
    {
     "ename": "NameError",
     "evalue": "name 'sqrt' is not defined",
     "output_type": "error",
     "traceback": [
      "\u001b[1;31m---------------------------------------------------------------------------\u001b[0m",
      "\u001b[1;31mNameError\u001b[0m                                 Traceback (most recent call last)",
      "Cell \u001b[1;32mIn[6], line 1\u001b[0m\n\u001b[1;32m----> 1\u001b[0m sqrt((t \u001b[38;5;241m-\u001b[39m m)\u001b[38;5;241m.\u001b[39mpow(\u001b[38;5;241m2\u001b[39m)\u001b[38;5;241m.\u001b[39mmean())\n",
      "\u001b[1;31mNameError\u001b[0m: name 'sqrt' is not defined"
     ]
    }
   ],
   "source": [
    "sqrt((t - m).pow(2).mean())"
   ]
  },
  {
   "cell_type": "code",
   "execution_count": 7,
   "id": "edf9d708",
   "metadata": {},
   "outputs": [
    {
     "data": {
      "text/plain": [
       "(tensor(2.), tensor(2.))"
      ]
     },
     "execution_count": 7,
     "metadata": {},
     "output_type": "execute_result"
    }
   ],
   "source": [
    "(t-m).pow(2).mean(), (t*t).mean() - (m*m)\n",
    "the mean of the squared data points minus the squared mean"
   ]
  },
  {
   "cell_type": "code",
   "execution_count": 8,
   "id": "1aa63a78",
   "metadata": {},
   "outputs": [
    {
     "ename": "NameError",
     "evalue": "name 'v' is not defined",
     "output_type": "error",
     "traceback": [
      "\u001b[1;31m---------------------------------------------------------------------------\u001b[0m",
      "\u001b[1;31mNameError\u001b[0m                                 Traceback (most recent call last)",
      "Cell \u001b[1;32mIn[8], line 3\u001b[0m\n\u001b[0;32m      1\u001b[0m \u001b[38;5;66;03m# Covariance\u001b[39;00m\n\u001b[0;32m      2\u001b[0m \u001b[38;5;66;03m# Tells you how much two things vary with respect to eachother\u001b[39;00m\n\u001b[1;32m----> 3\u001b[0m cov \u001b[38;5;241m=\u001b[39m (t\u001b[38;5;241m*\u001b[39mv)\u001b[38;5;241m.\u001b[39mmean() \u001b[38;5;241m-\u001b[39m t\u001b[38;5;241m.\u001b[39mmean()\u001b[38;5;241m*\u001b[39mv\u001b[38;5;241m.\u001b[39mmean(); cov\n",
      "\u001b[1;31mNameError\u001b[0m: name 'v' is not defined"
     ]
    }
   ],
   "source": [
    "# Covariance\n",
    "# Tells you how much two things vary with respect to eachother\n",
    "cov = (t*v).mean() - t.mean()*v.mean(); cov"
   ]
  },
  {
   "cell_type": "code",
   "execution_count": 9,
   "id": "164ba44e",
   "metadata": {},
   "outputs": [
    {
     "ename": "SyntaxError",
     "evalue": "invalid syntax (1411608723.py, line 1)",
     "output_type": "error",
     "traceback": [
      "\u001b[1;36m  Cell \u001b[1;32mIn[9], line 1\u001b[1;36m\u001b[0m\n\u001b[1;33m    pearson correlation coefficient is the scaled version of covariance\u001b[0m\n\u001b[1;37m            ^\u001b[0m\n\u001b[1;31mSyntaxError\u001b[0m\u001b[1;31m:\u001b[0m invalid syntax\n"
     ]
    }
   ],
   "source": [
    "pearson correlation coefficient is the scaled version of covariance\n",
    "# covaraince divided by the standard deviation of both values\n"
   ]
  },
  {
   "cell_type": "code",
   "execution_count": 10,
   "id": "87878512",
   "metadata": {},
   "outputs": [
    {
     "ename": "NameError",
     "evalue": "name 'a' is not defined",
     "output_type": "error",
     "traceback": [
      "\u001b[1;31m---------------------------------------------------------------------------\u001b[0m",
      "\u001b[1;31mNameError\u001b[0m                                 Traceback (most recent call last)",
      "Cell \u001b[1;32mIn[10], line 1\u001b[0m\n\u001b[1;32m----> 1\u001b[0m y \u001b[38;5;241m=\u001b[39m a \u001b[38;5;241m@\u001b[39m x\n\u001b[0;32m      2\u001b[0m y[i] \u001b[38;5;241m=\u001b[39m \u001b[38;5;28msum\u001b[39m([c\u001b[38;5;241m*\u001b[39md \u001b[38;5;28;01mfor\u001b[39;00m c,d \u001b[38;5;129;01min\u001b[39;00m \u001b[38;5;28mzip\u001b[39m(a[i], x)])\n\u001b[0;32m      3\u001b[0m y[i] \u001b[38;5;241m=\u001b[39m (a[i]\u001b[38;5;241m*\u001b[39mx)\u001b[38;5;241m.\u001b[39msum()\n",
      "\u001b[1;31mNameError\u001b[0m: name 'a' is not defined"
     ]
    }
   ],
   "source": [
    "\n",
    "# y[i] = sum([c*d for c,d in zip(a[i], x)])\n",
    "# y[i] = (a[i]*x).sum()\n",
    "\n",
    "# At the very beginning, our x vector has a mean of roughly 0. and a standard deviation of roughly 1. (since we picked it that way).\n",
    "\n",
    "mean,sqr = 0.,0.\n",
    "\n",
    "for i in range(100):\n",
    "    x = torch.randn(100)\n",
    "    a = torch.randn(512, 100)\n",
    "    \n",
    "    y = a @ x\n",
    "    mean += y.mean().item()\n",
    "    sqr  += y.pow(2).mean().item()\n",
    "    \n",
    "mean/100,sqr/100\n",
    "\n"
   ]
  },
  {
   "cell_type": "code",
   "execution_count": null,
   "id": "ec74e542",
   "metadata": {},
   "outputs": [],
   "source": []
  }
 ],
 "metadata": {
  "kernelspec": {
   "display_name": "Python 3 (ipykernel)",
   "language": "python",
   "name": "python3"
  },
  "language_info": {
   "codemirror_mode": {
    "name": "ipython",
    "version": 3
   },
   "file_extension": ".py",
   "mimetype": "text/x-python",
   "name": "python",
   "nbconvert_exporter": "python",
   "pygments_lexer": "ipython3",
   "version": "3.11.5"
  }
 },
 "nbformat": 4,
 "nbformat_minor": 5
}
