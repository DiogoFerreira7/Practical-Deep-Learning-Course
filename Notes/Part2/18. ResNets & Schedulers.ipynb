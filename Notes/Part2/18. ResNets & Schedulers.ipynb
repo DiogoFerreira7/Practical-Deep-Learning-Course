{
 "cells": [
  {
   "cell_type": "code",
   "execution_count": null,
   "id": "608c2c8c",
   "metadata": {},
   "outputs": [],
   "source": [
    "# 56 layer network is a superset of a 20 layer network - the problem here is something to do with training\n",
    "# Deep Residual Learning for Image Recognition\n",
    "# At first out = in\n",
    "# and thus acting as if there are no extra layers and behaves initially as if it is shallow\n",
    "\n",
    "# The residual | the out - in = conv2(conv1(In))\n",
    "# This only works if you are able to add these values together\n",
    "# meaning you need the same filters with the same stride values\n",
    "# So in order to be able to do this we add another very simple convolution\n",
    "# e.g a 1x1 kernel\n",
    "\n",
    "#"
   ]
  },
  {
   "cell_type": "code",
   "execution_count": 2,
   "id": "be8c2b77",
   "metadata": {},
   "outputs": [
    {
     "ename": "NameError",
     "evalue": "name 'act_gr' is not defined",
     "output_type": "error",
     "traceback": [
      "\u001b[1;31m---------------------------------------------------------------------------\u001b[0m",
      "\u001b[1;31mNameError\u001b[0m                                 Traceback (most recent call last)",
      "Cell \u001b[1;32mIn[2], line 3\u001b[0m\n\u001b[0;32m      1\u001b[0m \u001b[38;5;66;03m# ResNet\u001b[39;00m\n\u001b[1;32m----> 3\u001b[0m \u001b[38;5;28;01mdef\u001b[39;00m \u001b[38;5;21m_conv_block\u001b[39m(ni, nf, stride, act\u001b[38;5;241m=\u001b[39mact_gr, norm\u001b[38;5;241m=\u001b[39m\u001b[38;5;28;01mNone\u001b[39;00m, ks\u001b[38;5;241m=\u001b[39m\u001b[38;5;241m3\u001b[39m):\n\u001b[0;32m      4\u001b[0m     \u001b[38;5;28;01mreturn\u001b[39;00m nn\u001b[38;5;241m.\u001b[39mSequential(conv(ni, nf, stride\u001b[38;5;241m=\u001b[39m\u001b[38;5;241m1\u001b[39m, act\u001b[38;5;241m=\u001b[39mact, norm\u001b[38;5;241m=\u001b[39mnorm, ks\u001b[38;5;241m=\u001b[39mks),\n\u001b[0;32m      5\u001b[0m                          conv(nf, nf, stride\u001b[38;5;241m=\u001b[39mstride, act\u001b[38;5;241m=\u001b[39m\u001b[38;5;28;01mNone\u001b[39;00m, norm\u001b[38;5;241m=\u001b[39mnorm, ks\u001b[38;5;241m=\u001b[39mks))\n\u001b[0;32m      7\u001b[0m \u001b[38;5;28;01mclass\u001b[39;00m \u001b[38;5;21;01mResBlock\u001b[39;00m(nn\u001b[38;5;241m.\u001b[39mModule):\n",
      "\u001b[1;31mNameError\u001b[0m: name 'act_gr' is not defined"
     ]
    }
   ],
   "source": [
    "# ResNet\n",
    "\n",
    "def _conv_block(ni, nf, stride, act=act_gr, norm=None, ks=3):\n",
    "    return nn.Sequential(conv(ni, nf, stride=1, act=act, norm=norm, ks=ks),\n",
    "                         conv(nf, nf, stride=stride, act=None, norm=norm, ks=ks))\n",
    "\n",
    "class ResBlock(nn.Module):\n",
    "    def __init__(self, ni, nf, stride=1, ks=3, act=act_gr, norm=None):\n",
    "        super().__init__()\n",
    "        self.convs = _conv_block(ni, nf, stride, act=act, ks=ks, norm=norm)\n",
    "        self.idconv = fc.noop if ni==nf else conv(ni, nf, ks=1, stride=1, act=None)\n",
    "        self.pool = fc.noop if stride==1 else nn.AvgPool2d(2, ceil_mode=True)\n",
    "        self.act = act()\n",
    "\n",
    "    def forward(self, x):\n",
    "        return self.act(self.convs(x) + self.idconv(self.pool(x)))"
   ]
  },
  {
   "cell_type": "code",
   "execution_count": null,
   "id": "42d13916",
   "metadata": {},
   "outputs": [],
   "source": [
    "# Test time augmentation\n",
    "\n",
    "# does our batch trasnform callback on validation\n",
    "# that does a horizontal flip\n",
    "# acts as a sort of bagging where we bring multiple predictions into this\n",
    "\n",
    "# random erasing - we delete a part / a patch of an image and then we introduce some random gaussian noise\n",
    "\n",
    "# stacking both models and ensembling will allow you to have better answers\n"
   ]
  }
 ],
 "metadata": {
  "kernelspec": {
   "display_name": "Python 3 (ipykernel)",
   "language": "python",
   "name": "python3"
  },
  "language_info": {
   "codemirror_mode": {
    "name": "ipython",
    "version": 3
   },
   "file_extension": ".py",
   "mimetype": "text/x-python",
   "name": "python",
   "nbconvert_exporter": "python",
   "pygments_lexer": "ipython3",
   "version": "3.11.5"
  }
 },
 "nbformat": 4,
 "nbformat_minor": 5
}
