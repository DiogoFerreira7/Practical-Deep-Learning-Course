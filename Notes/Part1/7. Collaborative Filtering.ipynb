{
 "cells": [
  {
   "cell_type": "code",
   "execution_count": 1,
   "id": "9d1e309e",
   "metadata": {},
   "outputs": [],
   "source": [
    "# We can use gradient accummulation GA, to accumulate mini batches of gradients and then carry out the update later on after. \n",
    "# This allows us to train larger models without having much memory problems on smaller GPUs\n",
    "\n",
    "# Bagging is an ensemble that allows us to combine the performance of all of the models\n",
    "\n",
    "# k-fold cross validation - each of which have non overlapping validation sets\n"
   ]
  },
  {
   "cell_type": "code",
   "execution_count": 2,
   "id": "7b0a37aa",
   "metadata": {},
   "outputs": [],
   "source": [
    "# There are classes and functions in pytorch\n",
    "# if we are predicting two things then the model predicting two things might actually be better than the other model predicting one thing"
   ]
  },
  {
   "cell_type": "code",
   "execution_count": 4,
   "id": "12f58331",
   "metadata": {},
   "outputs": [],
   "source": [
    "# Collaborative filtering datasets - usually contain what kind of movies people have watched and all of the ratings that they gave the movies\n",
    "# Latent factors - we can create these latent factors and randomly initialise them and then use SGD to try to maximise the the accruacy of these latent factors\n",
    "\n",
    "# We must create latent factors for both the people and the movies- using sgd with momentum with a loss function and continuously optimise it"
   ]
  },
  {
   "cell_type": "code",
   "execution_count": null,
   "id": "b09f007d",
   "metadata": {},
   "outputs": [],
   "source": []
  }
 ],
 "metadata": {
  "kernelspec": {
   "display_name": "Python 3 (ipykernel)",
   "language": "python",
   "name": "python3"
  },
  "language_info": {
   "codemirror_mode": {
    "name": "ipython",
    "version": 3
   },
   "file_extension": ".py",
   "mimetype": "text/x-python",
   "name": "python",
   "nbconvert_exporter": "python",
   "pygments_lexer": "ipython3",
   "version": "3.11.5"
  }
 },
 "nbformat": 4,
 "nbformat_minor": 5
}
