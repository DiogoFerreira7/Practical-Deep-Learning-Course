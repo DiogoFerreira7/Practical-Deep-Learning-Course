{
 "cells": [
  {
   "cell_type": "code",
   "execution_count": 1,
   "id": "9878b073",
   "metadata": {},
   "outputs": [
    {
     "ename": "NameError",
     "evalue": "name 'search_images_ddg' is not defined",
     "output_type": "error",
     "traceback": [
      "\u001b[1;31m---------------------------------------------------------------------------\u001b[0m",
      "\u001b[1;31mNameError\u001b[0m                                 Traceback (most recent call last)",
      "\u001b[1;32m~\\AppData\\Local\\Temp\\ipykernel_22012\\500136511.py\u001b[0m in \u001b[0;36m<module>\u001b[1;34m\u001b[0m\n\u001b[0;32m      1\u001b[0m \u001b[1;31m# We can utilise\u001b[0m\u001b[1;33m\u001b[0m\u001b[1;33m\u001b[0m\u001b[0m\n\u001b[1;32m----> 2\u001b[1;33m \u001b[0mimgs\u001b[0m \u001b[1;33m=\u001b[0m \u001b[0msearch_images_ddg\u001b[0m\u001b[1;33m(\u001b[0m\u001b[1;34m\"search value\"\u001b[0m\u001b[1;33m)\u001b[0m\u001b[1;33m\u001b[0m\u001b[1;33m\u001b[0m\u001b[0m\n\u001b[0m\u001b[0;32m      3\u001b[0m \u001b[1;33m\u001b[0m\u001b[0m\n\u001b[0;32m      4\u001b[0m \u001b[1;31m# in order to gather all possible images that duck duck go returns\u001b[0m\u001b[1;33m\u001b[0m\u001b[1;33m\u001b[0m\u001b[0m\n\u001b[0;32m      5\u001b[0m \u001b[1;31m# if correctly searched these can be very useful for training our model\u001b[0m\u001b[1;33m\u001b[0m\u001b[1;33m\u001b[0m\u001b[0m\n",
      "\u001b[1;31mNameError\u001b[0m: name 'search_images_ddg' is not defined"
     ]
    }
   ],
   "source": [
    "# We can utilise\n",
    "imgs = search_images_ddg(\"search value\")\n",
    "\n",
    "# in order to gather all possible images that duck duck go returns\n",
    "# if correctly searched these can be very useful for training our model\n",
    "\n",
    "len(imgs)\n",
    "\n",
    "# A baseline model can be used to first identify problems with the data that can easily be fixed and cleaned"
   ]
  },
  {
   "cell_type": "code",
   "execution_count": 2,
   "id": "2bb03356",
   "metadata": {},
   "outputs": [
    {
     "ename": "NameError",
     "evalue": "name 'ClassificationInterpretation' is not defined",
     "output_type": "error",
     "traceback": [
      "\u001b[1;31m---------------------------------------------------------------------------\u001b[0m",
      "\u001b[1;31mNameError\u001b[0m                                 Traceback (most recent call last)",
      "\u001b[1;32m~\\AppData\\Local\\Temp\\ipykernel_22012\\3467564187.py\u001b[0m in \u001b[0;36m<module>\u001b[1;34m\u001b[0m\n\u001b[0;32m      4\u001b[0m \u001b[1;33m\u001b[0m\u001b[0m\n\u001b[0;32m      5\u001b[0m \u001b[1;31m# Object can be used for interpreting the bad parts of the model (such as viewing the top losses and confusion matrix)\u001b[0m\u001b[1;33m\u001b[0m\u001b[1;33m\u001b[0m\u001b[0m\n\u001b[1;32m----> 6\u001b[1;33m \u001b[0minterp\u001b[0m \u001b[1;33m=\u001b[0m \u001b[0mClassificationInterpretation\u001b[0m\u001b[1;33m.\u001b[0m\u001b[0mfrom_learner\u001b[0m\u001b[1;33m(\u001b[0m\u001b[0mlearn\u001b[0m\u001b[1;33m)\u001b[0m\u001b[1;33m\u001b[0m\u001b[1;33m\u001b[0m\u001b[0m\n\u001b[0m\u001b[0;32m      7\u001b[0m \u001b[0minterp\u001b[0m\u001b[1;33m.\u001b[0m\u001b[0mplot_confusion_matrix\u001b[0m\u001b[1;33m(\u001b[0m\u001b[1;33m)\u001b[0m\u001b[1;33m\u001b[0m\u001b[1;33m\u001b[0m\u001b[0m\n\u001b[0;32m      8\u001b[0m \u001b[1;33m\u001b[0m\u001b[0m\n",
      "\u001b[1;31mNameError\u001b[0m: name 'ClassificationInterpretation' is not defined"
     ]
    }
   ],
   "source": [
    "# We can train a baseline model in order to be able to see if the data cleaning that we are carrying out is useful\n",
    "# We can also use data augmentation in the item_tfms = RandomResizedcrop(224, min_scale = 0.5)\n",
    "# and data augmentation can also be carried out using batch_tfms = aug_transforms()\n",
    "\n",
    "# Object can be used for interpreting the bad parts of the model (such as viewing the top losses and confusion matrix)\n",
    "interp = ClassificationInterpretation.from_learner(learn)\n",
    "interp.plot_confusion_matrix()\n",
    "\n",
    "# Viewing images that give us the highest loss (things that need to be learnt)\n",
    "interp.plot_top_losses()\n",
    "\n",
    "# Loss can also be high whenever the model is not confident\n",
    "# Wrong and confident & Right and unconfident"
   ]
  },
  {
   "cell_type": "code",
   "execution_count": 3,
   "id": "7692d78e",
   "metadata": {},
   "outputs": [
    {
     "ename": "NameError",
     "evalue": "name 'ImageClassifierCleaner' is not defined",
     "output_type": "error",
     "traceback": [
      "\u001b[1;31m---------------------------------------------------------------------------\u001b[0m",
      "\u001b[1;31mNameError\u001b[0m                                 Traceback (most recent call last)",
      "\u001b[1;32m~\\AppData\\Local\\Temp\\ipykernel_22012\\2712106069.py\u001b[0m in \u001b[0;36m<module>\u001b[1;34m\u001b[0m\n\u001b[1;32m----> 1\u001b[1;33m \u001b[0mcleaner\u001b[0m \u001b[1;33m=\u001b[0m \u001b[0mImageClassifierCleaner\u001b[0m\u001b[1;33m(\u001b[0m\u001b[0mlearn\u001b[0m\u001b[1;33m)\u001b[0m\u001b[1;33m\u001b[0m\u001b[1;33m\u001b[0m\u001b[0m\n\u001b[0m\u001b[0;32m      2\u001b[0m \u001b[1;33m\u001b[0m\u001b[0m\n\u001b[0;32m      3\u001b[0m \u001b[1;31m# allows us to go through our training data and clean it up - remove any incorrectly labelled image data\u001b[0m\u001b[1;33m\u001b[0m\u001b[1;33m\u001b[0m\u001b[0m\n\u001b[0;32m      4\u001b[0m \u001b[1;31m# then for each index we can loop through it and delete it\u001b[0m\u001b[1;33m\u001b[0m\u001b[1;33m\u001b[0m\u001b[0m\n\u001b[0;32m      5\u001b[0m \u001b[1;33m\u001b[0m\u001b[0m\n",
      "\u001b[1;31mNameError\u001b[0m: name 'ImageClassifierCleaner' is not defined"
     ]
    }
   ],
   "source": [
    "cleaner = ImageClassifierCleaner(learn)\n",
    "\n",
    "# allows us to go through our training data and clean it up - remove any incorrectly labelled image data\n",
    "# then for each index we can loop through it and delete it\n",
    "\n",
    "learn.export(\"model.pkl\")\n",
    "\n",
    "# This can be used to export your model out and it can be ran in production on hugging face spaces\n",
    "\n",
    "# We can also then import it here using this\n",
    "learn = load_learner(\"model.pkl\")"
   ]
  },
  {
   "cell_type": "code",
   "execution_count": 5,
   "id": "001714ff",
   "metadata": {},
   "outputs": [
    {
     "name": "stdout",
     "output_type": "stream",
     "text": [
      "Wall time: 0 ns\n"
     ]
    }
   ],
   "source": [
    "%time\n",
    "# allows you to check how long it took to run something in a model"
   ]
  },
  {
   "cell_type": "code",
   "execution_count": 6,
   "id": "e2400781",
   "metadata": {},
   "outputs": [
    {
     "ename": "NameError",
     "evalue": "name 'gr' is not defined",
     "output_type": "error",
     "traceback": [
      "\u001b[1;31m---------------------------------------------------------------------------\u001b[0m",
      "\u001b[1;31mNameError\u001b[0m                                 Traceback (most recent call last)",
      "\u001b[1;32m~\\AppData\\Local\\Temp\\ipykernel_22012\\4292763793.py\u001b[0m in \u001b[0;36m<module>\u001b[1;34m\u001b[0m\n\u001b[0;32m      1\u001b[0m \u001b[1;31m# Gradio interfaces take in an input image and output label for example - they have many check their docs.\u001b[0m\u001b[1;33m\u001b[0m\u001b[1;33m\u001b[0m\u001b[0m\n\u001b[0;32m      2\u001b[0m \u001b[1;33m\u001b[0m\u001b[0m\n\u001b[1;32m----> 3\u001b[1;33m \u001b[0mgr\u001b[0m\u001b[1;33m.\u001b[0m\u001b[0mInterface\u001b[0m\u001b[1;33m(\u001b[0m\u001b[0mfn\u001b[0m \u001b[1;33m=\u001b[0m \u001b[0mclassify_image\u001b[0m\u001b[1;33m,\u001b[0m \u001b[0minputs\u001b[0m \u001b[1;33m=\u001b[0m \u001b[0mimage\u001b[0m\u001b[1;33m,\u001b[0m \u001b[0moutput\u001b[0m \u001b[1;33m=\u001b[0m \u001b[0mlabels\u001b[0m\u001b[1;33m,\u001b[0m \u001b[0mexamples\u001b[0m \u001b[1;33m=\u001b[0m \u001b[0mexamples\u001b[0m\u001b[1;33m)\u001b[0m\u001b[1;33m\u001b[0m\u001b[1;33m\u001b[0m\u001b[0m\n\u001b[0m",
      "\u001b[1;31mNameError\u001b[0m: name 'gr' is not defined"
     ]
    }
   ],
   "source": [
    "# Gradio interfaces take in an input image and output label for example - they have many check their docs.\n",
    "\n",
    "gr.Interface(fn = classify_image, inputs = image, output = labels, examples = examples)\n"
   ]
  },
  {
   "cell_type": "code",
   "execution_count": 7,
   "id": "d39ea07f",
   "metadata": {},
   "outputs": [
    {
     "ename": "ModuleNotFoundError",
     "evalue": "No module named 'fastai'",
     "output_type": "error",
     "traceback": [
      "\u001b[1;31m---------------------------------------------------------------------------\u001b[0m",
      "\u001b[1;31mModuleNotFoundError\u001b[0m                       Traceback (most recent call last)",
      "\u001b[1;32m~\\AppData\\Local\\Temp\\ipykernel_22012\\1330314473.py\u001b[0m in \u001b[0;36m<module>\u001b[1;34m\u001b[0m\n\u001b[0;32m      2\u001b[0m \u001b[1;31m# we can push this to git and it will be useable within hugging face\u001b[0m\u001b[1;33m\u001b[0m\u001b[1;33m\u001b[0m\u001b[0m\n\u001b[0;32m      3\u001b[0m \u001b[1;33m\u001b[0m\u001b[0m\n\u001b[1;32m----> 4\u001b[1;33m \u001b[1;32mfrom\u001b[0m \u001b[0mfastai\u001b[0m\u001b[1;33m.\u001b[0m\u001b[0mvision\u001b[0m\u001b[1;33m.\u001b[0m\u001b[0mall\u001b[0m \u001b[1;32mimport\u001b[0m \u001b[1;33m*\u001b[0m\u001b[1;33m\u001b[0m\u001b[1;33m\u001b[0m\u001b[0m\n\u001b[0m\u001b[0;32m      5\u001b[0m \u001b[1;32mimport\u001b[0m \u001b[0mgradio\u001b[0m \u001b[1;32mas\u001b[0m \u001b[0mgr\u001b[0m\u001b[1;33m\u001b[0m\u001b[1;33m\u001b[0m\u001b[0m\n\u001b[0;32m      6\u001b[0m \u001b[1;33m\u001b[0m\u001b[0m\n",
      "\u001b[1;31mModuleNotFoundError\u001b[0m: No module named 'fastai'"
     ]
    }
   ],
   "source": [
    "# Simple program to launch our program using gradio\n",
    "# we can push this to git and it will be useable within hugging face\n",
    "\n",
    "from fastai.vision.all import *\n",
    "import gradio as gr\n",
    "\n",
    "def is_cat(x):\n",
    "    return x[0].isupper()\n",
    "\n",
    "learn = load_learner('model.pkl')\n",
    "\n",
    "categories = ('Dog', 'Cat')\n",
    "\n",
    "def classify_images(img):\n",
    "    pred, idx, probs = learn.predict(img)\n",
    "    return dict(zip(categories, map(float, probs)))\n",
    "\n",
    "image = gr.inputs.Image(shape = (192, 255))\n",
    "label = gr.outputs.Label()\n",
    "examples = ['dog.jpg', 'cat.jpg']\n",
    "\n",
    "intf = gr.Interface(fn = classify_image, inputs = image, outputs = label, examples = examples)\n",
    "intf.launch(inline = False)"
   ]
  },
  {
   "cell_type": "code",
   "execution_count": null,
   "id": "d689ac42",
   "metadata": {},
   "outputs": [],
   "source": [
    "# We can utilise gradio to deploy our model to the hugging faces space, then we can utilise the API provided by gradio and \n",
    "# create a GitHub pages website - github pages have themes that are easy to use and have minimal coding\n",
    "# Thus you can host your model utilising a premade theme\n"
   ]
  }
 ],
 "metadata": {
  "kernelspec": {
   "display_name": "Python 3 (ipykernel)",
   "language": "python",
   "name": "python3"
  },
  "language_info": {
   "codemirror_mode": {
    "name": "ipython",
    "version": 3
   },
   "file_extension": ".py",
   "mimetype": "text/x-python",
   "name": "python",
   "nbconvert_exporter": "python",
   "pygments_lexer": "ipython3",
   "version": "3.9.13"
  }
 },
 "nbformat": 4,
 "nbformat_minor": 5
}
