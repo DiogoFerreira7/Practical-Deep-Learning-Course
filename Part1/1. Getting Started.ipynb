{
 "cells": [
  {
   "cell_type": "code",
   "execution_count": 1,
   "id": "250f6de6",
   "metadata": {},
   "outputs": [
    {
     "ename": "NameError",
     "evalue": "name 'DataBlock' is not defined",
     "output_type": "error",
     "traceback": [
      "\u001b[1;31m---------------------------------------------------------------------------\u001b[0m",
      "\u001b[1;31mNameError\u001b[0m                                 Traceback (most recent call last)",
      "\u001b[1;32m~\\AppData\\Local\\Temp\\ipykernel_21644\\2586794169.py\u001b[0m in \u001b[0;36m<module>\u001b[1;34m\u001b[0m\n\u001b[0;32m      1\u001b[0m \u001b[1;31m# FastAi DataBlock\u001b[0m\u001b[1;33m\u001b[0m\u001b[1;33m\u001b[0m\u001b[0m\n\u001b[0;32m      2\u001b[0m \u001b[1;33m\u001b[0m\u001b[0m\n\u001b[1;32m----> 3\u001b[1;33m dls = DataBlock(\n\u001b[0m\u001b[0;32m      4\u001b[0m     \u001b[1;31m# Input and output data\u001b[0m\u001b[1;33m\u001b[0m\u001b[1;33m\u001b[0m\u001b[0m\n\u001b[0;32m      5\u001b[0m     \u001b[0mblocks\u001b[0m \u001b[1;33m=\u001b[0m \u001b[1;33m(\u001b[0m\u001b[0minput_block\u001b[0m\u001b[1;33m,\u001b[0m \u001b[0moutput_block\u001b[0m\u001b[1;33m)\u001b[0m\u001b[1;33m,\u001b[0m\u001b[1;33m\u001b[0m\u001b[1;33m\u001b[0m\u001b[0m\n",
      "\u001b[1;31mNameError\u001b[0m: name 'DataBlock' is not defined"
     ]
    }
   ],
   "source": [
    "# FastAi DataBlock\n",
    "\n",
    "dls = DataBlock(\n",
    "    # Input and output data\n",
    "    blocks = (input_block, output_block),\n",
    "    get_items = get_image_files,\n",
    "    # This is required\n",
    "    splitter = RandomSplitter(valid_pct = 0.2, seed = 42),\n",
    "    get_y = parent_label,\n",
    "    # The transformations that will be applied to every single item in the dataset\n",
    "    items_tmft = [Resize(192, method = \"squish\")],\n",
    ").dataloaders(path)\n",
    "\n",
    "# PyTorch iterates over dataloaders\n",
    "\n",
    "# shows an example of a data batch size n\n",
    "dls.show_batch(n = 10)"
   ]
  },
  {
   "cell_type": "code",
   "execution_count": 3,
   "id": "ad1c05d5",
   "metadata": {},
   "outputs": [
    {
     "ename": "NameError",
     "evalue": "name 'vision_learner' is not defined",
     "output_type": "error",
     "traceback": [
      "\u001b[1;31m---------------------------------------------------------------------------\u001b[0m",
      "\u001b[1;31mNameError\u001b[0m                                 Traceback (most recent call last)",
      "\u001b[1;32m~\\AppData\\Local\\Temp\\ipykernel_21644\\3826523284.py\u001b[0m in \u001b[0;36m<module>\u001b[1;34m\u001b[0m\n\u001b[1;32m----> 1\u001b[1;33m \u001b[0mlearn\u001b[0m \u001b[1;33m=\u001b[0m \u001b[0mvision_learner\u001b[0m\u001b[1;33m(\u001b[0m\u001b[0mdls\u001b[0m\u001b[1;33m,\u001b[0m \u001b[0mresnet18\u001b[0m\u001b[1;33m,\u001b[0m \u001b[0mmetrics\u001b[0m \u001b[1;33m=\u001b[0m \u001b[0merror_rate\u001b[0m\u001b[1;33m)\u001b[0m\u001b[1;33m\u001b[0m\u001b[1;33m\u001b[0m\u001b[0m\n\u001b[0m\u001b[0;32m      2\u001b[0m \u001b[1;33m\u001b[0m\u001b[0m\n\u001b[0;32m      3\u001b[0m \u001b[1;31m# Take in the dataloader and a model (any model can be picked from the fastai documentation)\u001b[0m\u001b[1;33m\u001b[0m\u001b[1;33m\u001b[0m\u001b[0m\n\u001b[0;32m      4\u001b[0m \u001b[1;31m# restnet18 model in this case has already been pre-trained\u001b[0m\u001b[1;33m\u001b[0m\u001b[1;33m\u001b[0m\u001b[0m\n\u001b[0;32m      5\u001b[0m \u001b[1;31m# This does not start with randomised weights\u001b[0m\u001b[1;33m\u001b[0m\u001b[1;33m\u001b[0m\u001b[0m\n",
      "\u001b[1;31mNameError\u001b[0m: name 'vision_learner' is not defined"
     ]
    }
   ],
   "source": [
    "learn = vision_learner(dls, resnet18, metrics = error_rate)\n",
    "\n",
    "# Take in the dataloader and a model (any model can be picked from the fastai documentation)\n",
    "# restnet18 model in this case has already been pre-trained\n",
    "# This does not start with randomised weights\n",
    "\n",
    "learn.fine_tune(3)\n",
    "\n",
    "# Fine tuning to learn the differences between the previously trained model and the current one\n",
    "# By fine tuning we can carefully control the higher level features of the model into making them far more relevant to the current dataset that it is being trained on\n",
    "\n",
    "learn.predict(image_data)"
   ]
  },
  {
   "cell_type": "code",
   "execution_count": null,
   "id": "02cb1dde",
   "metadata": {},
   "outputs": [],
   "source": [
    "# Collaborative filtering - used for recommendation systems\n",
    "\n",
    "dls = CollabDataLoaders()"
   ]
  }
 ],
 "metadata": {
  "kernelspec": {
   "display_name": "Python 3 (ipykernel)",
   "language": "python",
   "name": "python3"
  },
  "language_info": {
   "codemirror_mode": {
    "name": "ipython",
    "version": 3
   },
   "file_extension": ".py",
   "mimetype": "text/x-python",
   "name": "python",
   "nbconvert_exporter": "python",
   "pygments_lexer": "ipython3",
   "version": "3.9.13"
  }
 },
 "nbformat": 4,
 "nbformat_minor": 5
}
